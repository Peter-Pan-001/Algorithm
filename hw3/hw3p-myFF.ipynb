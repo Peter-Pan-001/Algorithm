{
 "cells": [
  {
   "cell_type": "markdown",
   "metadata": {},
   "source": [
    "# Max Flow Applications\n",
    "\n",
    "The purpose of this assignment is to investigate applications of finding a Max Flow. The problem asks you to design and implement an algorithm for shipping a material between nodes with different supply and demand requirements.\n",
    "\n",
    "* Please write code *only* in the bodies of the two functions, that is, following the TODO comments.\n",
    "* Be careful not to use varibles defined outside of the functions.\n",
    "* Breaking the two above rules may lead to 0 grades."
   ]
  },
  {
   "cell_type": "markdown",
   "metadata": {},
   "source": [
    "## Movie distribution\n",
    "\n",
    "First solve Problem 2 from hw3-t. \n",
    "\n",
    "Now suppose a movie distributor would like to ship a copy of a film from CA to every other state. There are therefore 48 units to ship out of CA, and each other state receives 1 unit. \n",
    "\n",
    "The dataset contiguous-usa.dat lists the adjacent states in the US. Each line lists two adjacent states; thus AK and HI are omitted, but DC is included in the data. The following code reads in the graph of US states."
   ]
  },
  {
   "cell_type": "code",
   "execution_count": 1,
   "metadata": {},
   "outputs": [],
   "source": [
    "import networkx as nx\n",
    "G = nx.Graph()\n",
    "\n",
    "usa = open('contiguous-usa.dat')\n",
    "for line in usa:\n",
    "    s1, s2 = line.strip().split()\n",
    "    G.add_edge(s1, s2)"
   ]
  },
  {
   "cell_type": "markdown",
   "metadata": {},
   "source": [
    "We now encode the demands into the graph."
   ]
  },
  {
   "cell_type": "code",
   "execution_count": 2,
   "metadata": {},
   "outputs": [],
   "source": [
    "for state in G.nodes():\n",
    "    if state != 'CA':\n",
    "        G.node[state]['demand'] = 1\n",
    "G.node['CA']['demand'] = -48"
   ]
  },
  {
   "cell_type": "markdown",
   "metadata": {},
   "source": [
    "We will assign a uniform capacity of 16 to each edge. Since CA has only three adjacent states, this is the smallest possible uniform capacity that allows one to ship all 48 units out of CA. As we have created an undirected graph, and flows have directions, we first convert the graph to a directed graph."
   ]
  },
  {
   "cell_type": "code",
   "execution_count": 3,
   "metadata": {},
   "outputs": [],
   "source": [
    "G = nx.DiGraph(G)\n",
    "uniform_capacity = 16\n",
    "for (s1, s2) in G.edges():\n",
    "    G.edge[s1][s2]['capacity'] = uniform_capacity"
   ]
  },
  {
   "cell_type": "markdown",
   "metadata": {},
   "source": [
    "Complete the following function to implement your algorithm to find a flow with demands. Your function should work correctly for any input, not just the movie instance considered here. As always, you are encouraged to define auxiliary functions as needed for clarity."
   ]
  },
  {
   "cell_type": "code",
   "execution_count": 4,
   "metadata": {},
   "outputs": [],
   "source": [
    "def flow_with_demands(graph):\n",
    "    \"\"\"Computes a flow with demands over the given graph.\n",
    "    \n",
    "    Args:\n",
    "        graph: A directed graph with nodes annotated with 'demand' properties and edges annotated with 'capacity' \n",
    "            properties.\n",
    "        \n",
    "    Returns:\n",
    "        A dict of dicts containing the flow on each edge. For instance, flow[s1][s2] should provide the flow along\n",
    "        edge (s1, s2).\n",
    "        \n",
    "    Raises:\n",
    "        NetworkXUnfeasible: An error is thrown if there is no flow satisfying the demands.\n",
    "    \"\"\"\n",
    "    # TODO: Implement the function.\n",
    "    \n",
    "    def reduction_to_max_flow(graph):\n",
    "        graph.add_node('s')\n",
    "        graph.add_node('t')\n",
    "        graph.node['s']['demand'] = 0\n",
    "        graph.node['t']['demand'] = 0\n",
    "        for state in graph.nodes():\n",
    "            if state != 's' and state != 't':\n",
    "                if graph.node[state]['demand'] < 0:\n",
    "                    graph.add_edge('s', state)\n",
    "                    graph.edge['s'][state]['capacity'] = -graph.node[state]['demand']\n",
    "                    graph.node['s']['demand'] += graph.node[state]['demand']\n",
    "                elif graph.node[state]['demand'] > 0:\n",
    "                    graph.add_edge(state, 't')\n",
    "                    graph.edge[state]['t']['capacity'] = graph.node[state]['demand']\n",
    "                    graph.node['t']['demand'] += graph.node[state]['demand']\n",
    "        return graph\n",
    "    \n",
    "    \n",
    "    def dfs_route(graph, root):\n",
    "        if root is None:\n",
    "            return\n",
    "        nodelist = []\n",
    "        stack = []\n",
    "        nodelist.append(root)\n",
    "        stack.append(root)\n",
    "        while len(stack) > 0:\n",
    "            current_node = stack.pop()               \n",
    "            for next_node in graph.successors(current_node):        \n",
    "                if next_node not in nodelist:    \n",
    "                    stack.append(current_node)      \n",
    "                    stack.append(next_node)      \n",
    "                    nodelist.append(next_node)\n",
    "                    if stack[-1] == 't':\n",
    "                        return stack\n",
    "                    break\n",
    "        return []\n",
    "    \n",
    "    def make_residual_graph(graph):\n",
    "        r_graph = nx.Graph()\n",
    "        r_graph = nx.DiGraph(r_graph)\n",
    "        for (s1,s2) in graph.edges():\n",
    "            if graph.edge[s1][s2]['value'] < graph.edge[s1][s2]['capacity']:\n",
    "                r_graph.add_edge(s1, s2)\n",
    "                r_graph.edge[s1][s2]['value'] = graph.edge[s1][s2]['capacity'] - graph.edge[s1][s2]['value']\n",
    "        for (s1,s2) in graph.edges():\n",
    "            if graph.edge[s1][s2]['value'] > 0:\n",
    "                r_graph.add_edge(s2, s1)\n",
    "                r_graph.edge[s2][s1]['value'] = graph.edge[s1][s2]['value'] \n",
    "        return r_graph\n",
    "    \n",
    "    def Augment(graph, r_graph, path):\n",
    "        min_value = float('inf')\n",
    "        for i in range(len(path)-1):\n",
    "            if r_graph.edge[path[i]][path[i+1]]['value'] < min_value:\n",
    "                min_value = int(r_graph.edge[path[i]][path[i+1]]['value'])\n",
    "                \n",
    "        for i in range(len(path)-1):\n",
    "            if (path[i], path[i+1]) in graph.edges():\n",
    "                graph.edge[path[i]][path[i+1]]['value'] += min_value\n",
    "            else:\n",
    "                graph.edge[path[i+1]][path[i]]['value'] -= min_value\n",
    "                \n",
    "        return graph\n",
    "    \n",
    "    def get_flow_dict(graph):\n",
    "        flow = {}\n",
    "        for s1 in graph.edge.keys():\n",
    "            flow[s1] = {}\n",
    "            for s2 in graph.edge[s1].keys():\n",
    "                flow[s1][s2] = graph.edge[s1][s2]['value']\n",
    "        return flow\n",
    "            \n",
    "            \n",
    "    \n",
    "    def ff_algorithm(graph, s, t):\n",
    "        for (s1,s2) in graph.edges():\n",
    "            graph.edge[s1][s2]['value'] = 0\n",
    "        r_graph = make_residual_graph(graph)\n",
    "        while len(dfs_route(r_graph, s)):\n",
    "            path = dfs_route(r_graph, s)\n",
    "            graph = Augment(graph, r_graph, path)\n",
    "            r_graph = make_residual_graph(graph)  \n",
    "        flow = get_flow_dict(graph)\n",
    "        return flow\n",
    "    \n",
    "    graph = reduction_to_max_flow(graph)\n",
    "    flow_dict = ff_algorithm(graph, 's', 't')\n",
    "\n",
    "    flow_value = 0\n",
    "    for state in graph.nodes():\n",
    "        if graph.node[state]['demand'] < 0 and state != 's':\n",
    "            flow_value += flow_dict['s'][state]\n",
    "                \n",
    "    if flow_value != graph.node['t']['demand']:\n",
    "        raise nx.NetworkXUnfeasible(\"No flow satisfying the demand\")\n",
    "    \n",
    "    for s1 in flow_dict.keys():\n",
    "        for s2 in flow_dict[s1].keys():\n",
    "            if s2 == 't':\n",
    "                flow_dict[s1].pop('t', None)\n",
    "                break\n",
    "    \n",
    "    for s1 in flow_dict.keys():\n",
    "        if s1 == 's':\n",
    "            flow_dict.pop('s', None)\n",
    "        elif s1=='t':\n",
    "            flow_dict.pop('t', None)\n",
    "    \n",
    "    graph.remove_node('s')\n",
    "    graph.remove_node('t')\n",
    "    \n",
    "    return flow_dict"
   ]
  },
  {
   "cell_type": "markdown",
   "metadata": {},
   "source": [
    "To verify that your solution is correct, implement a function that computes the total flow into each node (which will be negative for supply nodes)."
   ]
  },
  {
   "cell_type": "code",
   "execution_count": 5,
   "metadata": {},
   "outputs": [],
   "source": [
    "def divergence(flow):\n",
    "    \"\"\"Computes the total flow into each node according to the given flow dict.\n",
    "    \n",
    "    Args:\n",
    "        flow: the flow dict recording flow between nodes.\n",
    "        \n",
    "    Returns:\n",
    "        A dict of the net flow into each node.\n",
    "    \"\"\"\n",
    "    # TODO: Implement the function.\n",
    "    \n",
    "    net_flow = {}\n",
    "    for s1 in flow:\n",
    "        for s2 in flow[s1]:\n",
    "            if s1 not in net_flow:\n",
    "                net_flow[s1] = 0\n",
    "            if s2 not in net_flow:\n",
    "                net_flow[s2] = 0\n",
    "            net_flow[s1] -= flow[s1][s2]\n",
    "            net_flow[s2] += flow[s1][s2]\n",
    "            \n",
    "    return net_flow"
   ]
  },
  {
   "cell_type": "markdown",
   "metadata": {},
   "source": [
    "The following code performs a sanity check on your function (but does not completely confirm correctness)."
   ]
  },
  {
   "cell_type": "code",
   "execution_count": 6,
   "metadata": {},
   "outputs": [
    {
     "name": "stdout",
     "output_type": "stream",
     "text": [
      "Flow satisfies all demands: True\n"
     ]
    }
   ],
   "source": [
    "flow = flow_with_demands(G)\n",
    "div = divergence(flow)\n",
    "print \"Flow satisfies all demands:\", all(div[n] == G.node[n]['demand'] for n in G.nodes())"
   ]
  }
 ],
 "metadata": {
  "kernelspec": {
   "display_name": "Python 3",
   "language": "python",
   "name": "python3"
  },
  "language_info": {
   "codemirror_mode": {
    "name": "ipython",
    "version": 3
   },
   "file_extension": ".py",
   "mimetype": "text/x-python",
   "name": "python",
   "nbconvert_exporter": "python",
   "pygments_lexer": "ipython3",
   "version": "3.7.1"
  }
 },
 "nbformat": 4,
 "nbformat_minor": 1
}
